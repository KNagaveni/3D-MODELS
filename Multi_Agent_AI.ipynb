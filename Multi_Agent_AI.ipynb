{
  "nbformat": 4,
  "nbformat_minor": 0,
  "metadata": {
    "colab": {
      "provenance": [],
      "authorship_tag": "ABX9TyOt3VJstbqSYyx8h3/Nngfr",
      "include_colab_link": true
    },
    "kernelspec": {
      "name": "python3",
      "display_name": "Python 3"
    },
    "language_info": {
      "name": "python"
    }
  },
  "cells": [
    {
      "cell_type": "markdown",
      "metadata": {
        "id": "view-in-github",
        "colab_type": "text"
      },
      "source": [
        "<a href=\"https://colab.research.google.com/github/KNagaveni/3D-MODELS/blob/main/Multi_Agent_AI.ipynb\" target=\"_parent\"><img src=\"https://colab.research.google.com/assets/colab-badge.svg\" alt=\"Open In Colab\"/></a>"
      ]
    },
    {
      "cell_type": "code",
      "source": [
        "# === Required Libraries ===\n",
        "import os\n",
        "import json\n",
        "import datetime\n",
        "from typing import Dict, Any\n",
        "import streamlit as st\n",
        "import fitz  # PyMuPDF\n",
        "import google.generativeai as genai"
      ],
      "metadata": {
        "id": "g5dG8fd2bguj"
      },
      "execution_count": 23,
      "outputs": []
    },
    {
      "cell_type": "code",
      "source": [
        "# === Google Gemini API Key ===\n",
        "from getpass import getpass\n",
        "gemini_key = getpass(\"Enter your Google Gemini API Key: \")"
      ],
      "metadata": {
        "colab": {
          "base_uri": "https://localhost:8080/"
        },
        "id": "d9IuKWKxbg0e",
        "outputId": "69c6f125-84c4-4cad-ec42-3082d65b1b11"
      },
      "execution_count": 24,
      "outputs": [
        {
          "name": "stdout",
          "output_type": "stream",
          "text": [
            "Enter your Google Gemini API Key: ··········\n"
          ]
        }
      ]
    },
    {
      "cell_type": "code",
      "source": [
        "import google.generativeai as genai\n",
        "genai.configure(api_key=gemini_key)"
      ],
      "metadata": {
        "id": "4zaY7TMxbg59"
      },
      "execution_count": 25,
      "outputs": []
    },
    {
      "cell_type": "code",
      "source": [
        "# === Helper Function to Parse LLM Response ===\n",
        "def parse_llm_response(response_text):\n",
        "    try:\n",
        "        # Remove markdown formatting if present\n",
        "        if response_text.startswith(\"json\"):\n",
        "            response_text = response_text.replace(\"json\", \"\").replace(\"   \", \"\").strip()\n",
        "        return json.loads(response_text)\n",
        "    except Exception as e:\n",
        "        return {\"error\": str(e), \"raw_response\": response_text}\n",
        "\n",
        "# === LLM Call ===\n",
        "def call_llm(prompt: str) -> Dict[str, Any]:\n",
        "    print(\"Sending to LLM:\\n\", prompt)\n",
        "    model = genai.GenerativeModel(\"gemini-1.5-flash\")\n",
        "    response = model.generate_content([prompt])\n",
        "    return parse_llm_response(response.text)\n",
        "\n",
        "# === Shared Memory ===\n",
        "class SharedMemory:\n",
        "    def __init__(self):\n",
        "        self.memory = []\n",
        "\n",
        "    def store(self, data: Dict[str, Any]):\n",
        "        self.memory.append(data)\n",
        "        print(\"Memory updated:\", data)\n",
        "\n",
        "# === Agent: Classifier ===\n",
        "class ClassifierAgent:\n",
        "    def classify(self, input_data: str) -> Dict[str, str]:\n",
        "        prompt = f\"\"\"\n",
        "        You are a classification agent.\n",
        "        Your job is to analyze the given input and determine:\n",
        "        1. The format of the input (PDF, Email, or JSON).\n",
        "        2. The intent of the message (e.g., Invoice, RFQ, Complaint, Regulation, etc.).\n",
        "\n",
        "        Input:\n",
        "        {input_data}\n",
        "\n",
        "        Respond in JSON format:\n",
        "        {{\n",
        "          \"format\": \"PDF / Email / JSON\",\n",
        "          \"intent\": \"e.g., Invoice / RFQ / Complaint / Regulation\"\n",
        "        }}\n",
        "        \"\"\"\n",
        "        return call_llm(prompt)\n",
        "\n",
        "# === Agent: Email ===\n",
        "class EmailAgent:\n",
        "    def process(self, email_text: str) -> Dict[str, Any]:\n",
        "        prompt = f\"\"\"\n",
        "        You are an Email extraction agent.\n",
        "        Analyze the email content below to extract:\n",
        "        - Sender name or organization\n",
        "        - Intent (Invoice, RFQ, Complaint, etc.)\n",
        "        - Urgency (Low, Medium, High)\n",
        "        - Summary of the message in 2-3 lines\n",
        "\n",
        "        Email Content:\n",
        "        {email_text}\n",
        "\n",
        "        Respond in JSON format:\n",
        "        {{\n",
        "          \"sender\": \"...\",\n",
        "          \"intent\": \"...\",\n",
        "          \"urgency\": \"...\",\n",
        "          \"summary\": \"...\"\n",
        "        }}\n",
        "        \"\"\"\n",
        "        return call_llm(prompt)\n",
        "\n",
        "# === Agent: JSON ===\n",
        "class JSONAgent:\n",
        "    def process(self, json_data: str) -> Dict[str, Any]:\n",
        "        prompt = f\"\"\"\n",
        "        You are a JSON extraction agent.\n",
        "        Your job is to:\n",
        "        - Extract fields from the given JSON.\n",
        "        - Convert the fields to a predefined schema: {{customer_name, product, quantity, date}}.\n",
        "        - Flag if any field is missing or suspicious.\n",
        "\n",
        "        Input JSON:\n",
        "        {json_data}\n",
        "\n",
        "        Respond in JSON format:\n",
        "        {{\n",
        "          \"standardized_data\": {{ ... }},\n",
        "          \"missing_fields\": [...],\n",
        "          \"anomalies\": [...]\n",
        "        }}\n",
        "        \"\"\"\n",
        "        return call_llm(prompt)\n",
        "\n",
        "# === Agent: PDF ===\n",
        "class PDFAgent:\n",
        "    def process(self, pdf_path: str) -> Dict[str, Any]:\n",
        "        doc = fitz.open(pdf_path)\n",
        "        text = \"\\n\".join([page.get_text() for page in doc])\n",
        "        prompt = f\"\"\"\n",
        "        You are a PDF extraction agent.\n",
        "        Analyze the text below and extract:\n",
        "        - Organization or sender\n",
        "        - Intent (Invoice, Complaint, RFQ, etc.)\n",
        "        - Summary in 2 lines\n",
        "\n",
        "        PDF Text:\n",
        "        {text[:2000]}\n",
        "\n",
        "        Respond in JSON format:\n",
        "        {{\n",
        "          \"sender\": \"...\",\n",
        "          \"intent\": \"...\",\n",
        "          \"summary\": \"...\"\n",
        "        }}\n",
        "        \"\"\"\n",
        "        return call_llm(prompt)\n",
        "\n",
        "# === Driver Code ===\n",
        "classifier = ClassifierAgent()\n",
        "json_agent = JSONAgent()\n",
        "email_agent = EmailAgent()\n",
        "pdf_agent = PDFAgent()\n",
        "memory = SharedMemory()\n",
        "\n",
        "# === Input Example ===\n",
        "input_type = input(\"Enter type (Email / JSON / PDF): \").strip()\n",
        "\n",
        "if input_type.lower() == \"email\":\n",
        "    user_input = input(\"Paste email content:\\n\")\n",
        "    result = classifier.classify(user_input)\n",
        "    format_ = result.get(\"format\", \"Unknown\")\n",
        "    intent = result.get(\"intent\", \"Unknown\")\n",
        "    processed = email_agent.process(user_input)\n",
        "    memory.store({\n",
        "        \"source\": format_,\n",
        "        \"type\": intent,\n",
        "        \"timestamp\": datetime.datetime.now().isoformat(),\n",
        "        \"extracted_data\": processed,\n",
        "        \"thread_id\": f\"thread-{datetime.datetime.now().timestamp()}\"\n",
        "    })\n",
        "    print(\"\\nProcessed Email Result:\", json.dumps(processed, indent=2))\n",
        "\n",
        "elif input_type.lower() == \"json\":\n",
        "    user_input = input(\"Paste JSON content:\\n\")\n",
        "    result = classifier.classify(user_input)\n",
        "    format_ = result.get(\"format\", \"Unknown\")\n",
        "    intent = result.get(\"intent\", \"Unknown\")\n",
        "    processed = json_agent.process(user_input)\n",
        "    memory.store({\n",
        "        \"source\": format_,\n",
        "        \"type\": intent,\n",
        "        \"timestamp\": datetime.datetime.now().isoformat(),\n",
        "        \"extracted_data\": processed,\n",
        "        \"thread_id\": f\"thread-{datetime.datetime.now().timestamp()}\"\n",
        "    })\n",
        "    print(\"\\nProcessed JSON Result:\", json.dumps(processed, indent=2))\n",
        "\n",
        "elif input_type.lower() == \"pdf\":\n",
        "    print(\"Please upload a PDF file manually\")\n",
        "    uploaded = files.upload()\n",
        "    for filename in uploaded:\n",
        "        with fitz.open(filename) as doc:\n",
        "            pdf_text = \"\\n\".join([page.get_text() for page in doc])\n",
        "        result = classifier.classify(pdf_text)\n",
        "        format_ = result.get(\"format\", \"Unknown\")\n",
        "        intent = result.get(\"intent\", \"Unknown\")\n",
        "        processed = pdf_agent.process(filename)\n",
        "        memory.store({\n",
        "            \"source\": format_,\n",
        "            \"type\": intent,\n",
        "            \"timestamp\": datetime.datetime.now().isoformat(),\n",
        "            \"extracted_data\": processed,\n",
        "            \"thread_id\": f\"thread-{datetime.datetime.now().timestamp()}\"\n",
        "        })\n",
        "        print(\"\\nProcessed PDF Result:\", json.dumps(processed, indent=2))\n",
        "\n",
        "else:\n",
        "    print(\"Invalid input type. Please choose Email, JSON, or PDF.\")\n"
      ],
      "metadata": {
        "colab": {
          "base_uri": "https://localhost:8080/",
          "height": 890
        },
        "id": "WqIeHnjffYkB",
        "outputId": "eb2b9c30-e53d-450e-985f-8cc87ca087e2"
      },
      "execution_count": 26,
      "outputs": [
        {
          "output_type": "stream",
          "name": "stdout",
          "text": [
            "Enter type (Email / JSON / PDF): Email\n",
            "Paste email content:\n",
            " From: john.doe@company.com     Subject: Request for Quote      Hello,     We are looking to purchase 50 laptops for our team. Please send a quote.      Regards,     John Doe\n",
            "Sending to LLM:\n",
            " \n",
            "        You are a classification agent.\n",
            "        Your job is to analyze the given input and determine:\n",
            "        1. The format of the input (PDF, Email, or JSON).\n",
            "        2. The intent of the message (e.g., Invoice, RFQ, Complaint, Regulation, etc.).\n",
            "\n",
            "        Input:\n",
            "         From: john.doe@company.com     Subject: Request for Quote      Hello,     We are looking to purchase 50 laptops for our team. Please send a quote.      Regards,     John Doe\n",
            "\n",
            "        Respond in JSON format:\n",
            "        {\n",
            "          \"format\": \"PDF / Email / JSON\",\n",
            "          \"intent\": \"e.g., Invoice / RFQ / Complaint / Regulation\"\n",
            "        }\n",
            "        \n"
          ]
        },
        {
          "output_type": "stream",
          "name": "stderr",
          "text": [
            "2025-05-31 15:27:42.124 200 POST /v1beta/models/gemini-1.5-flash:generateContent?%24alt=json%3Benum-encoding%3Dint (127.0.0.1) 2509.30ms\n"
          ]
        },
        {
          "output_type": "stream",
          "name": "stdout",
          "text": [
            "Sending to LLM:\n",
            " \n",
            "        You are an Email extraction agent.\n",
            "        Analyze the email content below to extract:\n",
            "        - Sender name or organization\n",
            "        - Intent (Invoice, RFQ, Complaint, etc.)\n",
            "        - Urgency (Low, Medium, High)\n",
            "        - Summary of the message in 2-3 lines\n",
            "\n",
            "        Email Content:\n",
            "         From: john.doe@company.com     Subject: Request for Quote      Hello,     We are looking to purchase 50 laptops for our team. Please send a quote.      Regards,     John Doe\n",
            "\n",
            "        Respond in JSON format:\n",
            "        {\n",
            "          \"sender\": \"...\",\n",
            "          \"intent\": \"...\",\n",
            "          \"urgency\": \"...\",\n",
            "          \"summary\": \"...\"\n",
            "        }\n",
            "        \n"
          ]
        },
        {
          "output_type": "stream",
          "name": "stderr",
          "text": [
            "2025-05-31 15:27:43.734 200 POST /v1beta/models/gemini-1.5-flash:generateContent?%24alt=json%3Benum-encoding%3Dint (127.0.0.1) 1600.82ms\n"
          ]
        },
        {
          "output_type": "stream",
          "name": "stdout",
          "text": [
            "Memory updated: {'source': 'Unknown', 'type': 'Unknown', 'timestamp': '2025-05-31T15:27:43.736740', 'extracted_data': {'error': 'Expecting value: line 1 column 1 (char 0)', 'raw_response': '```json\\n{\\n  \"sender\": \"john.doe@company.com\",\\n  \"intent\": \"RFQ\",\\n  \"urgency\": \"Low\",\\n  \"summary\": \"The sender, John Doe, is requesting a quote for the purchase of 50 laptops.  No specific timeframe is mentioned.\"\\n}\\n```\\n'}, 'thread_id': 'thread-1748705263.736749'}\n",
            "\n",
            "Processed Email Result: {\n",
            "  \"error\": \"Expecting value: line 1 column 1 (char 0)\",\n",
            "  \"raw_response\": \"```json\\n{\\n  \\\"sender\\\": \\\"john.doe@company.com\\\",\\n  \\\"intent\\\": \\\"RFQ\\\",\\n  \\\"urgency\\\": \\\"Low\\\",\\n  \\\"summary\\\": \\\"The sender, John Doe, is requesting a quote for the purchase of 50 laptops.  No specific timeframe is mentioned.\\\"\\n}\\n```\\n\"\n",
            "}\n"
          ]
        }
      ]
    }
  ]
}